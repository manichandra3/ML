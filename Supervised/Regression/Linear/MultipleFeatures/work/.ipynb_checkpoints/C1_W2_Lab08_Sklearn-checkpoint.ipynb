{
 "cells": [
  {
   "cell_type": "markdown",
   "metadata": {},
   "source": [
    "# Ungraded Lab: Linear Regression using Scikit-Learn"
   ],
   "id": "53a47f16e8dc1fa8"
  },
  {
   "cell_type": "markdown",
   "metadata": {},
   "source": [
    "Now that you've implemented linear regression from scratch, let's see you can train a linear regression model using scikit-learn.\n",
    "\n",
    "## Dataset \n",
    "Let's start with the same dataset as the first labs."
   ],
   "id": "489cc15eae787142"
  },
  {
   "cell_type": "code",
   "execution_count": null,
   "metadata": {},
   "source": [
    "import numpy as np\n",
    "\n",
    "# X is the input variable (size in square feet)\n",
    "# y in the output variable (price in 1000s of dollars)\n",
    "X = np.array([1000, 2000])\n",
    "y = np.array([200, 400])"
   ],
   "id": "e86a40cd92f7d1ff",
   "outputs": []
  },
  {
   "cell_type": "markdown",
   "metadata": {},
   "source": [
    "## Fit the model\n",
    "\n",
    "The code below imports the [linear regression model](https://scikit-learn.org/stable/modules/generated/sklearn.linear_model.LinearRegression.html#sklearn.linear_model.LinearRegression) from scikit-learn. You can fit this model on the training data by calling `fit` function."
   ],
   "id": "9dd7432d1fa604c2"
  },
  {
   "cell_type": "code",
   "execution_count": null,
   "metadata": {},
   "source": [
    "from sklearn.linear_model import LinearRegression\n",
    "\n",
    "linear_model = LinearRegression()\n",
    "# We must reshape X using .reshape(-1, 1) because our data has a single feature\n",
    "# If X has multiple features, you don't need to reshape\n",
    "linear_model.fit(X.reshape(-1, 1), y) "
   ],
   "id": "f8464e96d6a6af48",
   "outputs": []
  },
  {
   "cell_type": "markdown",
   "metadata": {},
   "source": [
    "## Make Predictions\n",
    "\n",
    "You can see the predictions made by this model by calling the `predict` function."
   ],
   "id": "f05be41845014eb6"
  },
  {
   "cell_type": "code",
   "execution_count": null,
   "metadata": {},
   "source": [
    "y_pred = linear_model.predict(X.reshape(-1,1))\n",
    "\n",
    "print(\"Prediction on training set:\", y_pred)\n",
    "\n",
    "X_test = np.array([[1200]])\n",
    "print(f\"Prediction for 1200 sqft house: {linear_model.predict(X_test)}\")"
   ],
   "id": "d1fa7564ce0a69c2",
   "outputs": []
  },
  {
   "cell_type": "markdown",
   "metadata": {},
   "source": [
    "## Calculate score\n",
    "\n",
    "You can calculate how well this model is doing by calling the `score` function. Specifically, it, returns the coefficient of determination $R^2$ of the prediction. 1 is the best score."
   ],
   "id": "d3b77c4fc8656c6e"
  },
  {
   "cell_type": "code",
   "execution_count": null,
   "metadata": {},
   "source": [
    "print(\"Accuracy on training set:\", linear_model.score(X.reshape(-1,1), y))"
   ],
   "id": "49bcfebbeb4e00f8",
   "outputs": []
  },
  {
   "cell_type": "markdown",
   "metadata": {},
   "source": [
    "## View Parameters \n",
    "Our $\\mathbf{w}$ parameters from our earlier labs are referred to as 'intercept' and 'coefficients' in sklearn."
   ],
   "id": "31f32b63301e2e7"
  },
  {
   "cell_type": "code",
   "execution_count": null,
   "metadata": {},
   "source": [
    "print(f\"w = {linear_model.intercept_},{linear_model.coef_}\")"
   ],
   "id": "75483a25c4dd623f",
   "outputs": []
  }
 ],
 "metadata": {
  "kernelspec": {
   "display_name": "Python 3",
   "language": "python",
   "name": "python3"
  },
  "language_info": {
   "codemirror_mode": {
    "name": "ipython",
    "version": 3
   },
   "file_extension": ".py",
   "mimetype": "text/x-python",
   "name": "python",
   "nbconvert_exporter": "python",
   "pygments_lexer": "ipython3",
   "version": "3.8.6"
  }
 },
 "nbformat": 4,
 "nbformat_minor": 5
}
